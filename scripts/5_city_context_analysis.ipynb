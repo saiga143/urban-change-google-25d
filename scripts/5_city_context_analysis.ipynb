{
 "cells": [
  {
   "cell_type": "markdown",
   "id": "8da37732-9d35-4df8-9d2a-0dc02281c0b9",
   "metadata": {},
   "source": [
    "# City wide context analysis of urban change categories\n",
    "This notebook compares the spatial distribution of four key urban change categories across three urban zones: slums, 100m buffer around slums, and other city regions.\n",
    "\n",
    "**Author:** Sai Ganesh Veeravalli  \n",
    "**Dataset Used:** Google 2.5D Open Buildings (Temporal), Nairobi IDEAtlas Slum reference data, Nairobi Administrative boundary from HDX  "
   ]
  },
  {
   "cell_type": "markdown",
   "id": "b38b9a13-edb1-4835-b686-ece2413536aa",
   "metadata": {},
   "source": [
    "# 📦 Section 1: Import Required Libraries"
   ]
  },
  {
   "cell_type": "code",
   "execution_count": null,
   "id": "8d72be92-f2ba-48b8-a698-fa3c1cb9a231",
   "metadata": {},
   "outputs": [],
   "source": [
    "import geopandas as gpd\n",
    "import matplotlib.pyplot as plt\n",
    "import numpy as np"
   ]
  },
  {
   "cell_type": "markdown",
   "id": "d4e4db1a-aaf9-460b-a344-b53fc2207c35",
   "metadata": {},
   "source": [
    "## Section 1.1 Load and preprocess spatial layers"
   ]
  },
  {
   "cell_type": "code",
   "execution_count": null,
   "id": "09184645-0041-4e1c-9490-a3fe2e11d838",
   "metadata": {},
   "outputs": [],
   "source": [
    "# Load classified urban change grids (2016–2023)\n",
    "grid = gpd.read_file(r\"F:\\DEPRIMAP\\EARSEL2025\\March2025\\Data\\csv_experiment\\urban_change_updated_23_16.gpkg\")\n",
    "\n",
    "# Load slum polygons and city boundary\n",
    "slums = gpd.read_file(r\"F:\\DEPRIMAP\\EARSEL2025\\DATASETS\\Reference Slum Parcels\\nairobi_reference_slums.shp\")\n",
    "nairobi_city = gpd.read_file(r\"F:\\DEPRIMAP\\EARSEL2025\\DATASETS\\AdminBoundaries\\Nairobi_admin_boundary.shp\")\n",
    "\n",
    "# Reproject all layers to EPSG:3857 (for accurate buffering and area computation)\n",
    "grid = grid.to_crs(epsg=3857)\n",
    "slums = slums.to_crs(epsg=3857)\n",
    "nairobi_city = nairobi_city.to_crs(epsg=3857)\n",
    "\n",
    "# Fix any minor geometry issues (e.g., self-intersections)\n",
    "grid['geometry'] = grid['geometry'].buffer(0)\n",
    "slums['geometry'] = slums['geometry'].buffer(0)\n",
    "nairobi_city['geometry'] = nairobi_city['geometry'].buffer(0)"
   ]
  },
  {
   "cell_type": "markdown",
   "id": "c0f0267a-4d84-40a8-ad5e-35cd585c329b",
   "metadata": {},
   "source": [
    "# 📈  Section 2: City context analysis "
   ]
  },
  {
   "cell_type": "markdown",
   "id": "891d4f7b-288e-4114-91f4-ce70c125ff42",
   "metadata": {},
   "source": [
    "## Section 2.1 Derive spatial zones"
   ]
  },
  {
   "cell_type": "code",
   "execution_count": null,
   "id": "fe71c926-9a52-46e8-a1cd-287453f2e565",
   "metadata": {},
   "outputs": [],
   "source": [
    "# Step 1: Dissolve Nairobi city boundary to a single geometry\n",
    "nairobi_city_dissolved = nairobi_city.dissolve()\n",
    "\n",
    "# Step 2: Clip slums to fit within city boundary\n",
    "slums_clipped = gpd.overlay(slums, nairobi_city_dissolved, how='intersection')\n",
    "\n",
    "# Step 3: Create a 100m buffer around clipped slums\n",
    "slums_buffered = slums_clipped.copy()\n",
    "slums_buffered['geometry'] = slums_buffered.geometry.buffer(100)\n",
    "\n",
    "# Step 4: Dissolve buffer and clip it to city boundary\n",
    "buffer_dissolved = slums_buffered.dissolve()\n",
    "buffer_clipped = gpd.overlay(buffer_dissolved, nairobi_city_dissolved, how='intersection')\n",
    "\n",
    "# Step 5: Dissolve slums for clean subtraction\n",
    "slums_dissolved = slums_clipped.dissolve()\n",
    "\n",
    "# Step 6: Subtract slums from buffer → get 100m buffer ring only\n",
    "buffer_ring_geom = buffer_clipped.geometry.difference(slums_dissolved.geometry)\n",
    "buffer_ring_gdf = gpd.GeoDataFrame(geometry=buffer_ring_geom, crs=slums.crs).reset_index(drop=True)\n",
    "\n",
    "# Step 7: Subtract slums and buffer from city → get \"other\" regions\n",
    "city_minus_slums = nairobi_city_dissolved.geometry.difference(slums_dissolved.geometry)\n",
    "other_geom = city_minus_slums.difference(buffer_clipped.geometry)\n",
    "other_regions_gdf = gpd.GeoDataFrame(geometry=other_geom, crs=slums.crs).reset_index(drop=True)"
   ]
  },
  {
   "cell_type": "markdown",
   "id": "3ffaeaf3-30ff-4bb7-9b5c-2d61e8c73910",
   "metadata": {},
   "source": [
    "## Section 2.2 Visualize the three spatial zones"
   ]
  },
  {
   "cell_type": "code",
   "execution_count": null,
   "id": "ad2f8be0-7fe2-4c9b-816f-5d6723c1324e",
   "metadata": {},
   "outputs": [],
   "source": [
    "fig, ax = plt.subplots(figsize=(12, 12))\n",
    "\n",
    "nairobi_city_dissolved.plot(ax=ax, facecolor='none', edgecolor='black', linewidth=1.2, label='City Boundary')\n",
    "other_regions_gdf.plot(ax=ax, facecolor='lightgreen', edgecolor='green', alpha=0.4, label='Other Regions')\n",
    "buffer_ring_gdf.plot(ax=ax, facecolor='none', edgecolor='red', linestyle='--', linewidth=1.2, label='Buffer Ring')\n",
    "slums_clipped.plot(ax=ax, facecolor='lightgray', edgecolor='blue', linewidth=0.8, label='Slums')\n",
    "\n",
    "ax.set_title(\"Clipped Spatial Zones Within Nairobi City\", fontsize=14)\n",
    "ax.set_aspect('equal')\n",
    "ax.legend(loc='upper right')\n",
    "plt.axis('off')\n",
    "plt.show()"
   ]
  },
  {
   "cell_type": "markdown",
   "id": "b99137f2-0a7e-42c0-930d-e1beebcc7527",
   "metadata": {},
   "source": [
    "## Section 2.3 Spatial overlay with grid and filter by 4 focus categories"
   ]
  },
  {
   "cell_type": "code",
   "execution_count": null,
   "id": "7cc5534e-69be-4b42-9c3a-828cc7dc6e95",
   "metadata": {},
   "outputs": [],
   "source": [
    "target_categories = [\n",
    "    'Vertical Densification',\n",
    "    'High Densification',\n",
    "    'Horizontal Densification',\n",
    "    'Decline'\n",
    "]"
   ]
  },
  {
   "cell_type": "code",
   "execution_count": null,
   "id": "e1e50fb6-0b19-413f-b896-d58b9ad1377c",
   "metadata": {},
   "outputs": [],
   "source": [
    "# Slum grids\n",
    "grids_in_slums = gpd.overlay(grid, slums_clipped, how='intersection')\n",
    "grids_in_slums = grids_in_slums[grids_in_slums['urban_change'].isin(target_categories)].copy()\n",
    "grids_in_slums['area_sqm'] = grids_in_slums.geometry.area\n",
    "grids_in_slums['area_ha'] = grids_in_slums['area_sqm'] / 10_000\n",
    "\n",
    "# Buffer ring grids\n",
    "grids_in_buffer = gpd.overlay(grid, buffer_ring_gdf, how='intersection')\n",
    "grids_in_buffer = grids_in_buffer[grids_in_buffer['urban_change'].isin(target_categories)].copy()\n",
    "grids_in_buffer['area_sqm'] = grids_in_buffer.geometry.area\n",
    "grids_in_buffer['area_ha'] = grids_in_buffer['area_sqm'] / 10_000\n",
    "\n",
    "# Other region grids\n",
    "grids_in_other = gpd.overlay(grid, other_regions_gdf, how='intersection')\n",
    "grids_in_other = grids_in_other[grids_in_other['urban_change'].isin(target_categories)].copy()\n",
    "grids_in_other['area_sqm'] = grids_in_other.geometry.area\n",
    "grids_in_other['area_ha'] = grids_in_other['area_sqm'] / 10_000"
   ]
  },
  {
   "cell_type": "markdown",
   "id": "018bb1a4-94d7-40d2-ba5b-66b3e244d7f6",
   "metadata": {},
   "source": [
    "## Section 2.4 Aggregate area statistics per zone"
   ]
  },
  {
   "cell_type": "code",
   "execution_count": null,
   "id": "bd80855d-015f-417e-b3f7-f2297dab8f92",
   "metadata": {},
   "outputs": [],
   "source": [
    "# Summarize total area (in hectares) by category and zone\n",
    "slum_summary = grids_in_slums.groupby('urban_change')['area_ha'].sum().reset_index().rename(columns={'area_ha': 'slum_area_ha'})\n",
    "buffer_summary = grids_in_buffer.groupby('urban_change')['area_ha'].sum().reset_index().rename(columns={'area_ha': 'buffer_area_ha'})\n",
    "other_summary = grids_in_other.groupby('urban_change')['area_ha'].sum().reset_index().rename(columns={'area_ha': 'other_area_ha'})\n",
    "\n",
    "# Merge all summaries\n",
    "area_summary = slum_summary.merge(buffer_summary, on='urban_change', how='outer')\n",
    "area_summary = area_summary.merge(other_summary, on='urban_change', how='outer')\n",
    "area_summary.fillna(0, inplace=True)\n",
    "\n",
    "# Round and compute totals\n",
    "area_summary[['slum_area_ha', 'buffer_area_ha', 'other_area_ha']] = area_summary[[\n",
    "    'slum_area_ha', 'buffer_area_ha', 'other_area_ha'\n",
    "]].round(2)\n",
    "area_summary['total_ha'] = area_summary[['slum_area_ha', 'buffer_area_ha', 'other_area_ha']].sum(axis=1)\n",
    "\n",
    "# Compute percentage distribution\n",
    "area_summary['slum_%'] = (area_summary['slum_area_ha'] / area_summary['total_ha'] * 100).round(2)\n",
    "area_summary['buffer_%'] = (area_summary['buffer_area_ha'] / area_summary['total_ha'] * 100).round(2)\n",
    "area_summary['other_%'] = (area_summary['other_area_ha'] / area_summary['total_ha'] * 100).round(2)"
   ]
  },
  {
   "cell_type": "code",
   "execution_count": null,
   "id": "9829aa45-3ca3-4e76-9dfc-b1e3a3291e02",
   "metadata": {},
   "outputs": [],
   "source": [
    "# styled table of summary\n",
    "styled_table = (\n",
    "    area_summary\n",
    "    .style\n",
    "    .format({\n",
    "        'slum_area_ha': '{:.1f}',\n",
    "        'buffer_area_ha': '{:.1f}',\n",
    "        'other_area_ha': '{:.1f}',\n",
    "        'total_ha': '{:.1f}',\n",
    "        'slum_%': '{:.1f}%',\n",
    "        'buffer_%': '{:.1f}%',\n",
    "        'other_%': '{:.1f}%'\n",
    "    })\n",
    "    .set_caption(\"Urban Change Area Distribution by Zone (in Hectares and Percentages)\")\n",
    "    .hide(axis=\"index\")\n",
    ")\n",
    "styled_table"
   ]
  },
  {
   "cell_type": "markdown",
   "id": "bb636e8a-5b85-4a42-83d0-47353162cd3f",
   "metadata": {},
   "source": [
    "## Section 2.5 Bar plot for area % with annotations"
   ]
  },
  {
   "cell_type": "code",
   "execution_count": null,
   "id": "b508aeaf-f472-4295-a751-0c668a7cce61",
   "metadata": {},
   "outputs": [],
   "source": [
    "import numpy as np\n",
    "\n",
    "labels = area_summary['urban_change']\n",
    "slum_pct = area_summary['slum_%']\n",
    "buffer_pct = area_summary['buffer_%']\n",
    "other_pct = area_summary['other_%']\n",
    "slum_ha = area_summary['slum_area_ha']\n",
    "buffer_ha = area_summary['buffer_area_ha']\n",
    "other_ha = area_summary['other_area_ha']\n",
    "\n",
    "x = np.arange(len(labels))\n",
    "width = 0.25\n",
    "\n",
    "fig, ax = plt.subplots(figsize=(12, 6))\n",
    "\n",
    "bars1 = ax.bar(x - width, slum_pct, width, label='In Slums')\n",
    "bars2 = ax.bar(x, buffer_pct, width, label='In Buffer Ring')\n",
    "bars3 = ax.bar(x + width, other_pct, width, label='In Other Regions')\n",
    "\n",
    "# Add absolute area (ha) as annotation\n",
    "def annotate(bars, values):\n",
    "    for bar, value in zip(bars, values):\n",
    "        height = bar.get_height()\n",
    "        ax.annotate(f'{value:.0f} ha',\n",
    "                    xy=(bar.get_x() + bar.get_width() / 2, height),\n",
    "                    xytext=(0, 3),\n",
    "                    textcoords=\"offset points\",\n",
    "                    ha='center', va='bottom', fontsize=9)\n",
    "\n",
    "annotate(bars1, slum_ha)\n",
    "annotate(bars2, buffer_ha)\n",
    "annotate(bars3, other_ha)\n",
    "\n",
    "# Plot styling\n",
    "ax.set_ylabel('Area Percentage (%)')\n",
    "ax.set_title('Urban Change Category Distribution by Spatial Zone')\n",
    "ax.set_xticks(x)\n",
    "ax.set_xticklabels(labels, rotation=15)\n",
    "ax.legend()\n",
    "ax.yaxis.grid(True, linestyle='--', linewidth=0.5, alpha=0.7)\n",
    "plt.tight_layout()\n",
    "plt.show()"
   ]
  }
 ],
 "metadata": {
  "kernelspec": {
   "display_name": "Python 3 (ipykernel)",
   "language": "python",
   "name": "python3"
  },
  "language_info": {
   "codemirror_mode": {
    "name": "ipython",
    "version": 3
   },
   "file_extension": ".py",
   "mimetype": "text/x-python",
   "name": "python",
   "nbconvert_exporter": "python",
   "pygments_lexer": "ipython3",
   "version": "3.9.21"
  }
 },
 "nbformat": 4,
 "nbformat_minor": 5
}
