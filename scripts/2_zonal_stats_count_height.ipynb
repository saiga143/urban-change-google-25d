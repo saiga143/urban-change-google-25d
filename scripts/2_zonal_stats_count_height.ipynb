{
 "cells": [
  {
   "cell_type": "markdown",
   "id": "7ddc6b4a-447e-4803-9198-2e8b396075db",
   "metadata": {},
   "source": [
    "# Zonal Statistics Extraction from Google 2.5D Data\n",
    "This notebook calculates building count and average height statistics across 100m x 100m reference grids using Google’s Open Buildings 2.5D dataset (2016–2023).\n",
    "\n",
    "**Author:** Sai Ganesh Veeravalli  \n",
    "**Dataset Used:** Google 2.5D Open Buildings (Temporal)  \n",
   ]
  },
  {
   "cell_type": "markdown",
   "id": "d3194da4-134d-4f92-bc4d-010e2d1e9f72",
   "metadata": {},
   "source": [
    "# 📦 Section 1: Import Required Libraries"
   ]
  },
  {
   "cell_type": "code",
   "execution_count": null,
   "id": "e5231fd1-133a-42f4-8930-ceabc624b71c",
   "metadata": {},
   "outputs": [],
   "source": [
    "import rasterio\n",
    "import geopandas as gpd\n",
    "import numpy as np\n",
    "import time\n",
    "import matplotlib.pyplot as plt\n",
    "from rasterio.mask import mask\n",
    "from shapely.geometry import mapping\n",
    "from joblib import Parallel, delayed\n",
    "from tqdm import tqdm\n",
    "import os\n",
    "import glob\n",
    "from osgeo import gdal"
   ]
  },
  {
   "cell_type": "markdown",
   "id": "d87f5641-a39c-4106-a644-6e618a377a56",
   "metadata": {},
   "source": [
    " # 🧱 Section 2: Prepare raster mosaics and apply binary mask"
   ]
  },
  {
   "cell_type": "markdown",
   "id": "6f990838-d8bd-4a6c-b9fb-83e0f794dd93",
   "metadata": {},
   "source": [
    "## Prepare Raster Mosaics and Apply Binary Mask\n",
    "\n",
    "This section merges the high-resolution raster tiles downloaded from Google Earth Engine into single mosaics for each band — building presence, building count, and building height. A binary mask is generated from the presence band and used to clean the building height raster by masking out invalid or low-confidence areas.\n"
   ]
  },
  {
   "cell_type": "markdown",
   "id": "3589d95a-a486-4fd2-8572-ec67e478bc3f",
   "metadata": {},
   "source": [
    "## 2.1 Merge Multiple Tiles into a Mosaic"
   ]
  },
  {
   "cell_type": "code",
   "execution_count": null,
   "id": "0e16b971-89db-4dd5-b6ac-d94f5deddcc9",
   "metadata": {},
   "outputs": [],
   "source": [
    "def create_mosaic(input_dir, output_dir, layer_name, year):\n",
    "    \"\"\"\n",
    "    Creates a mosaic from raster tiles and saves as a compressed GeoTIFF.\n",
    "    \"\"\"\n",
    "    search_path = os.path.join(input_dir, \"*.tif\")\n",
    "    tiff_files = glob.glob(search_path)\n",
    "\n",
    "    if not tiff_files:\n",
    "        print(f\"No TIFF files found in {input_dir}. Skipping...\")\n",
    "        return None\n",
    "\n",
    "    output_vrt = os.path.join(output_dir, f'Nairobi{year}_{layer_name}_Mosaic.vrt')\n",
    "    output_tiff = os.path.join(output_dir, f'Nairobi{year}_{layer_name}_Mosaic.tif')\n",
    "\n",
    "    print(f\"Creating VRT for {layer_name}...\")\n",
    "    gdal.BuildVRT(output_vrt, tiff_files)\n",
    "\n",
    "    print(f\"Converting VRT to GeoTIFF for {layer_name}...\")\n",
    "    gdal.Translate(output_tiff, output_vrt, options=gdal.TranslateOptions(creationOptions=['COMPRESS=LZW']))\n",
    "\n",
    "    print(f\"{layer_name.capitalize()} mosaic created at: {output_tiff}\")\n",
    "    return output_tiff\n",
    "\n",
    "# Input folders for 2023 (update for different years)\n",
    "input_dirs = {\n",
    "    'presence': r'F:\\DEPRIMAP\\EARSEL2025\\DATASETS\\Google 25D Buildings\\Nairobi\\2023\\Presence',\n",
    "    'building_count': r'F:\\DEPRIMAP\\EARSEL2025\\DATASETS\\Google 25D Buildings\\Nairobi\\2023\\Count',\n",
    "    'building_height': r'F:\\DEPRIMAP\\EARSEL2025\\DATASETS\\Google 25D Buildings\\Nairobi\\2023\\Height'\n",
    "}\n",
    "\n",
    "output_dir = r'F:\\DEPRIMAP\\EARSEL2025\\March2025\\Data\\Mosaics'\n",
    "\n",
    "# Create mosaics\n",
    "mosaic_files = {layer: create_mosaic(input_dir, output_dir, layer, \"23\") for layer, input_dir in input_dirs.items()}\n"
   ]
  },
  {
   "cell_type": "markdown",
   "id": "aa2c0c6a-5002-4649-8d88-b5b94175705a",
   "metadata": {},
   "source": [
    "## 2.2 Create a binary presence mask"
   ]
  },
  {
   "cell_type": "code",
   "execution_count": null,
   "id": "8062d0b4-a06c-4a15-ab91-8bd3afa4a0e4",
   "metadata": {},
   "outputs": [],
   "source": [
    "def create_binary_mask(input_tif, output_tif, threshold=0.34): #0.34 threshold suggested by Google Open Buildings 2.5D dataset code examples in GEE\n",
    "    \"\"\"\n",
    "    Creates a binary mask from building presence raster.\n",
    "    \"\"\"\n",
    "    with rasterio.open(input_tif) as src:\n",
    "        profile = src.profile\n",
    "        profile.update(dtype=rasterio.int16, nodata=0)\n",
    "\n",
    "        with rasterio.open(output_tif, 'w', **profile) as dst:\n",
    "            for ji, window in src.block_windows(1):\n",
    "                data = src.read(1, window=window)\n",
    "                binary_data = (data > threshold).astype(np.int16)\n",
    "                dst.write(binary_data, 1, window=window)\n",
    "\n",
    "    print(f\"Binary mask saved at: {output_tif}\")\n",
    "    return output_tif\n",
    "\n",
    "# Apply to presence mosaic\n",
    "binary_mask_fp = os.path.join(output_dir, \"Nairobi23_Binary_Presence_Mosaic.tif\")\n",
    "create_binary_mask(mosaic_files['presence'], binary_mask_fp)\n"
   ]
  },
  {
   "cell_type": "markdown",
   "id": "be8cdd4e-0fef-4098-88a8-555b04a6293f",
   "metadata": {},
   "source": [
    "## 2.3 Mask the building height raster"
   ]
  },
  {
   "cell_type": "code",
   "execution_count": null,
   "id": "ce382cf5-a60c-4c3e-8980-63fec0eeecbd",
   "metadata": {},
   "outputs": [],
   "source": [
    "def apply_mask_to_raster(input_tif, mask_tif, output_tif, nodata_value=-9999):\n",
    "    \"\"\"\n",
    "    Applies a binary mask to building height raster.\n",
    "    \"\"\"\n",
    "    with rasterio.open(input_tif) as src, rasterio.open(mask_tif) as mask_src:\n",
    "        profile = src.profile\n",
    "        profile.update(dtype=rasterio.float32, nodata=nodata_value)\n",
    "\n",
    "        with rasterio.open(output_tif, 'w', **profile) as dst:\n",
    "            for ji, window in src.block_windows(1):\n",
    "                data = src.read(1, window=window)\n",
    "                mask_data = mask_src.read(1, window=window)\n",
    "                masked_data = np.where(mask_data == 1, data, nodata_value)\n",
    "                dst.write(masked_data, 1, window=window)\n",
    "\n",
    "    print(f\"Masked height raster saved at: {output_tif}\")\n",
    "    return output_tif\n",
    "\n",
    "# Apply the binary mask to the building height raster\n",
    "masked_height_fp = os.path.join(output_dir, \"Nairobi23_Masked_Height_Mosaic.tif\")\n",
    "apply_mask_to_raster(mosaic_files['building_height'], binary_mask_fp, masked_height_fp)\n",
    "\n",
    "# Add the final masked raster to the mosaic dictionary\n",
    "mosaic_files['masked_height'] = masked_height_fp"
   ]
  },
  {
   "cell_type": "markdown",
   "id": "ec512b96-70af-4d56-a884-9122ff665221",
   "metadata": {},
   "source": [
    "# 📊 Section 3: Compute Builidng count and Average Height"
   ]
  },
  {
   "cell_type": "markdown",
   "id": "3fcef13b-57be-44ec-8d41-5e7f2015d9b9",
   "metadata": {},
   "source": [
    "## 3.1 Define file paths and parameters"
   ]
  },
  {
   "cell_type": "code",
   "execution_count": null,
   "id": "4bb4c36b-ece7-4461-9c72-764dd0105388",
   "metadata": {},
   "outputs": [],
   "source": [
    "# 🔹 Change this to match the year you're processing (e.g., 16 for 2016, 23 for 2023)\n",
    "year = 23\n",
    "\n",
    "# 🔹 File paths (update these for your system)\n",
    "vector_path = r\"F:\\DEPRIMAP\\DIRTY_MODEL\\DATASETS\\100mGrid_FUA\\Nairobi\\Nairobi_GRID.shp\" ##replace this with your analytical unit\n",
    "count_raster_path = r\"F:\\DEPRIMAP\\EARSEL2025\\March2025\\Data\\Mosaics\\Nairobi23_building_count_Mosaic.tif\"\n",
    "height_raster_path = r\"F:\\DEPRIMAP\\EARSEL2025\\March2025\\Data\\Mosaics\\Nairobi23_Masked_Height_Mosaic.tif\""
   ]
  },
  {
   "cell_type": "markdown",
   "id": "809065df-a01e-454d-a9f5-54c84b63e051",
   "metadata": {},
   "source": [
    "## 3.2 Load vector and raster data"
   ]
  },
  {
   "cell_type": "code",
   "execution_count": null,
   "id": "fadeaa1a-dcfa-4642-a3eb-2690691b065f",
   "metadata": {},
   "outputs": [],
   "source": [
    "# Load vector grid\n",
    "vector_gdf = gpd.read_file(vector_path)\n",
    "\n",
    "# Load raster metadata for CRS and nodata\n",
    "with rasterio.open(count_raster_path) as count_src, rasterio.open(height_raster_path) as height_src:\n",
    "    raster_crs = count_src.crs\n",
    "    count_nodata = count_src.nodata if count_src.nodata is not None else -9999\n",
    "    height_nodata = height_src.nodata if height_src.nodata is not None else -9999\n",
    "\n",
    "# Reproject vector to match raster CRS if needed\n",
    "if vector_gdf.crs != raster_crs:\n",
    "    vector_gdf = vector_gdf.to_crs(raster_crs)"
   ]
  },
  {
   "cell_type": "markdown",
   "id": "3b78b79a-dab6-4f57-870a-c53d954e9f75",
   "metadata": {},
   "source": [
    "## 3.3 Define zonal statistics function"
   ]
  },
  {
   "cell_type": "code",
   "execution_count": null,
   "id": "1b5288e4-5072-4593-b8f3-e8fa0f8fa48c",
   "metadata": {},
   "outputs": [],
   "source": [
    "def process_polygon(geom, count_raster_path, height_raster_path, count_nodata, height_nodata):\n",
    "    \"\"\"\n",
    "    Extracts:\n",
    "    - Sum of pixel values from the count raster\n",
    "    - Mean and median of pixel values from the height raster\n",
    "    \"\"\"\n",
    "    try:\n",
    "        # Building count\n",
    "        with rasterio.open(count_raster_path) as count_src:\n",
    "            count_image, _ = mask(count_src, [mapping(geom)], crop=True, nodata=np.nan)\n",
    "            count_data = count_image[0].flatten()\n",
    "            count_data[count_data == count_nodata] = np.nan\n",
    "            count_data = count_data[~np.isnan(count_data)]\n",
    "            count_sum = np.sum(count_data) if len(count_data) > 0 else None\n",
    "\n",
    "        # Building height\n",
    "        with rasterio.open(height_raster_path) as height_src:\n",
    "            height_image, _ = mask(height_src, [mapping(geom)], crop=True, nodata=np.nan)\n",
    "            height_data = height_image[0].flatten()\n",
    "            height_data[height_data == height_nodata] = np.nan\n",
    "            height_data = height_data[~np.isnan(height_data)]\n",
    "            height_mean = np.mean(height_data) if len(height_data) > 0 else None\n",
    "            height_median = np.median(height_data) if len(height_data) > 0 else None\n",
    "\n",
    "        return count_sum, height_mean, height_median\n",
    "    except Exception:\n",
    "        return None, None, None"
   ]
  },
  {
   "cell_type": "markdown",
   "id": "fce4a12f-6649-4cab-a48f-a6044cf5684a",
   "metadata": {},
   "source": [
    "## 3.4 Run batch zonal statistics (parallel)"
   ]
  },
  {
   "cell_type": "code",
   "execution_count": null,
   "id": "562b9514-6aa7-407c-a308-35bb4e081c49",
   "metadata": {},
   "outputs": [],
   "source": [
    "timestamps = []\n",
    "processing_speeds = []\n",
    "start_time = time.time()\n",
    "\n",
    "results = []\n",
    "batch_size = 1000 ##adjust based on your cpu power\n",
    "\n",
    "for i in tqdm(range(0, len(vector_gdf), batch_size), desc=\"Processing Polygons\"):\n",
    "    batch_results = Parallel(n_jobs=-1, backend=\"loky\")(\n",
    "        delayed(process_polygon)(\n",
    "            geom, count_raster_path, height_raster_path, count_nodata, height_nodata\n",
    "        )\n",
    "        for geom in vector_gdf.geometry[i:i+batch_size]\n",
    "    )\n",
    "    results.extend(batch_results)\n",
    "\n",
    "    elapsed_time = time.time() - start_time\n",
    "    speed = (i + batch_size) / elapsed_time if elapsed_time > 0 else 0\n",
    "    timestamps.append(elapsed_time)\n",
    "    processing_speeds.append(speed)\n"
   ]
  },
  {
   "cell_type": "markdown",
   "id": "dd8bca4b-1bb1-4763-8b23-3bdf3f4810bb",
   "metadata": {},
   "source": [
    "## 3.5 Add results to Geodata frame"
   ]
  },
  {
   "cell_type": "code",
   "execution_count": null,
   "id": "191b023b-d88e-4d99-97f5-1dfe1593d2b2",
   "metadata": {},
   "outputs": [],
   "source": [
    "# Assign results to the GeoDataFrame\n",
    "vector_gdf[f\"count_{year}\"], vector_gdf[f\"mean_ht_{year}\"], vector_gdf[f\"median_ht_{year}\"] = zip(*results)"
   ]
  },
  {
   "cell_type": "markdown",
   "id": "699b4b02-a9de-4f59-8623-c1888bf173a7",
   "metadata": {},
   "source": [
    "## 3.6 Export output"
   ]
  },
  {
   "cell_type": "code",
   "execution_count": null,
   "id": "5d2e2d8f-5115-4aa5-88fd-9ea843b77e7a",
   "metadata": {},
   "outputs": [],
   "source": [
    "output_path = r\"F:\\DEPRIMAP\\EARSEL2025\\March2025\\Data\\csv_experiment\\output_23.gpkg\"\n",
    "vector_gdf.to_file(output_path, driver=\"GPKG\")\n",
    "print(f\"✅ Zonal statistics completed for year {year} and saved to GeoPackage!\")"
   ]
  },
  {
   "cell_type": "markdown",
   "id": "9ea0d8d5-7e47-47d8-bbcd-cbe80cca8fa0",
   "metadata": {},
   "source": [
    "## 📈 Optional: Plot processing speed (optional diagnostics)"
   ]
  },
  {
   "cell_type": "code",
   "execution_count": null,
   "id": "9fa31a4c-cd00-4fd0-86d5-0c3749a6407a",
   "metadata": {},
   "outputs": [],
   "source": [
    "plt.figure(figsize=(8,4))\n",
    "plt.plot(timestamps, processing_speeds, marker='o')\n",
    "plt.title(\"Processing Speed Over Time\")\n",
    "plt.xlabel(\"Time Elapsed (s)\")\n",
    "plt.ylabel(\"Grids Processed / sec\")\n",
    "plt.grid(True)\n",
    "plt.tight_layout()\n",
    "plt.show()"
   ]
  }
 ],
 "metadata": {
  "kernelspec": {
   "display_name": "Python 3 (ipykernel)",
   "language": "python",
   "name": "python3"
  },
  "language_info": {
   "codemirror_mode": {
    "name": "ipython",
    "version": 3
   },
   "file_extension": ".py",
   "mimetype": "text/x-python",
   "name": "python",
   "nbconvert_exporter": "python",
   "pygments_lexer": "ipython3",
   "version": "3.9.21"
  }
 },
 "nbformat": 4,
 "nbformat_minor": 5
}
