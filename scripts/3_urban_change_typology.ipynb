{
 "cells": [
  {
   "cell_type": "markdown",
   "id": "d8191790-8137-47a2-804c-3452e70c6ce1",
   "metadata": {},
   "source": [
    "# Change classification and Urban Change categories calculation\n",
    "This notebook processes building count and height statistics to classify 8 types of urban change for the interval 2016-2023.\n",
    "\n",
    "**Author:** Sai Ganesh Veeravalli  \n",
    "**Dataset Used:** Google 2.5D Open Buildings (Temporal)  \n",
    "**Analysis Year:** 2023  "
   ]
  },
  {
   "cell_type": "markdown",
   "id": "546f9a4d-3be4-4329-b3d9-44bf5b823260",
   "metadata": {},
   "source": [
    "# 📦 Section 1: Import Required Libraries"
   ]
  },
  {
   "cell_type": "code",
   "execution_count": null,
   "id": "3a7d530a-ee23-4205-83f5-f92395878b87",
   "metadata": {},
   "outputs": [],
   "source": [
    "import geopandas as gpd\n",
    "import pandas as pd\n",
    "import numpy as np\n",
    "import os"
   ]
  },
  {
   "cell_type": "markdown",
   "id": "8efaa997-6114-49b1-9828-f1e929a3fe8b",
   "metadata": {},
   "source": [
    "## Section 1.1 Define input directory and ouput path"
   ]
  },
  {
   "cell_type": "code",
   "execution_count": null,
   "id": "b4417520-2830-46d6-a2d3-7b10af72afd3",
   "metadata": {},
   "outputs": [],
   "source": [
    "input_dir = r\"F:\\DEPRIMAP\\EARSEL2025\\March2025\\Data\\csv_experiment\"\n",
    "output_path = os.path.join(input_dir, \"urban_change_updated_23_16.gpkg\")"
   ]
  },
  {
   "cell_type": "markdown",
   "id": "d0af8abe-dda1-4175-a704-e0e71ae6f558",
   "metadata": {},
   "source": [
    "# 🧭 Section 2: Building count and height change classification"
   ]
  },
  {
   "cell_type": "markdown",
   "id": "511435a8-3baf-4297-b285-9d3e3177585d",
   "metadata": {},
   "source": [
    "## Section 2.1 Use 2016 and 2023 data"
   ]
  },
  {
   "cell_type": "code",
   "execution_count": null,
   "id": "e2e2bb7b-3b94-41d7-b970-a6045d71a575",
   "metadata": {},
   "outputs": [],
   "source": [
    "# Only use 2016 and 2023 files\n",
    "years = [16, 23]\n",
    "gdfs = []\n",
    "\n",
    "for year in years:\n",
    "    path = os.path.join(input_dir, f\"output_{year}.gpkg\")\n",
    "    gdf = gpd.read_file(path)\n",
    "    gdf = gdf[[\"Org_FID\", \"geometry\", f\"count_{year}\", f\"mean_ht_{year}\", f\"median_ht_{year}\"]]\n",
    "    gdfs.append(gdf)\n",
    "\n",
    "# Merge based on Org_FID\n",
    "merged_gdf = gdfs[0]\n",
    "merged_gdf = merged_gdf.merge(gdfs[1].drop(columns=[\"geometry\"]), on=\"Org_FID\", how=\"outer\")\n",
    "merged_gdf.set_geometry(gdfs[0].geometry, inplace=True)"
   ]
  },
  {
   "cell_type": "markdown",
   "id": "fb9179da-c7af-4786-a779-d436a7ac6568",
   "metadata": {},
   "source": [
    "## Sectio 2.2 Preprocessing and Difference calculation"
   ]
  },
  {
   "cell_type": "code",
   "execution_count": null,
   "id": "54fe1f4a-f063-4001-9c64-2f694d73002d",
   "metadata": {},
   "outputs": [],
   "source": [
    "# 👉 If total building count is < 1 in any year, set count and heights to 0\n",
    "# This ensures we don’t accidentally infer false differences from areas with no buildings\n",
    "for year in years:\n",
    "    count_col = f\"count_{year}\"\n",
    "    mean_ht_col = f\"mean_ht_{year}\"\n",
    "    median_ht_col = f\"median_ht_{year}\"\n",
    "    merged_gdf.loc[merged_gdf[count_col] < 1, [count_col, mean_ht_col, median_ht_col]] = 0\n",
    "\n",
    "# 👉 Calculate building count and height differences (2023 - 2016)\n",
    "merged_gdf[\"ct_diff_23_16\"] = merged_gdf[\"count_23\"] - merged_gdf[\"count_16\"]\n",
    "merged_gdf[\"avg_ht_diff_23_16\"] = merged_gdf[\"mean_ht_23\"] - merged_gdf[\"mean_ht_16\"]"
   ]
  },
  {
   "cell_type": "markdown",
   "id": "e1d6eebd-5818-4c2e-a270-19d93fc4d408",
   "metadata": {},
   "source": [
    "## Section 2.3 Threshold definition"
   ]
  },
  {
   "cell_type": "markdown",
   "id": "2a87d27e-1a94-446f-947b-8afa4aebae6f",
   "metadata": {},
   "source": [
    "👉 Thresholds are based on literature and empirical distribution checks\n",
    "- Count thresholds: Decrease < -1.0, Increase > 6.34 (IQR rule)\n",
    "- Height thresholds: Decrease < -1.8, Increase > 1.8 (one floor ≈ 1.8m)"
   ]
  },
  {
   "cell_type": "code",
   "execution_count": null,
   "id": "1ea2a126-7a31-4dfc-82ca-84dbb97ae592",
   "metadata": {},
   "outputs": [],
   "source": [
    "def classify_count(x):\n",
    "    if x < -1.0:\n",
    "        return \"Decrease\"\n",
    "    elif -1.0 <= x <= 6.34:\n",
    "        return \"Stable\"\n",
    "    else:\n",
    "        return \"Increase\"\n",
    "\n",
    "def classify_height(x):\n",
    "    if x < -1.8:\n",
    "        return \"Decrease\"\n",
    "    elif -1.8 <= x <= 1.8:\n",
    "        return \"Stable\"\n",
    "    else:\n",
    "        return \"Increase\"\n",
    "\n",
    "# Apply classification to each grid\n",
    "merged_gdf[\"class_count\"] = merged_gdf[\"ct_diff_23_16\"].apply(classify_count)\n",
    "merged_gdf[\"class_avg_ht\"] = merged_gdf[\"avg_ht_diff_23_16\"].apply(classify_height)"
   ]
  },
  {
   "cell_type": "markdown",
   "id": "7f9155fc-d7bc-4cea-9a01-5c238a068bd5",
   "metadata": {},
   "source": [
    "# ⚙️ Section 3: Urban change categories calculation"
   ]
  },
  {
   "cell_type": "markdown",
   "id": "78d2319d-be8d-4c15-a6bc-5ea8f9342920",
   "metadata": {},
   "source": [
    "## Section 3.1  Define urban change categories (typology) definitions"
   ]
  },
  {
   "cell_type": "code",
   "execution_count": null,
   "id": "1362f3a8-f503-4f18-ad7f-aeab9dcd618c",
   "metadata": {},
   "outputs": [],
   "source": [
    "# 👉 Combine count and height classes into 8 urban change categories\n",
    "\n",
    "def classify_urban_change(row):\n",
    "    c = row[\"class_count\"]\n",
    "    h = row[\"class_avg_ht\"]\n",
    "    if c == \"Stable\" and h == \"Stable\":\n",
    "        return \"Stable\"\n",
    "    elif c == \"Stable\" and h == \"Increase\":\n",
    "        return \"Vertical Densification\"\n",
    "    elif c == \"Increase\" and h == \"Stable\":\n",
    "        return \"Horizontal Densification\"\n",
    "    elif c == \"Increase\" and h == \"Increase\":\n",
    "        return \"Combined Densification\"\n",
    "    elif c == \"Decrease\" and h == \"Decrease\":\n",
    "        return \"Decline\"\n",
    "    elif c == \"Increase\" and h == \"Decrease\":\n",
    "        return \"Mixed Trend 1\"\n",
    "    elif c == \"Decrease\" and h == \"Increase\":\n",
    "        return \"Mixed Trend 2\"\n",
    "    elif (c == \"Stable\" and h == \"Decrease\") or (c == \"Decrease\" and h == \"Stable\"):\n",
    "        return \"Partial Decline\"\n",
    "    else:\n",
    "        return \"Undefined\"\n",
    "\n",
    "merged_gdf[\"urban_change\"] = merged_gdf.apply(classify_urban_change, axis=1)"
   ]
  },
  {
   "cell_type": "markdown",
   "id": "fd942930-6c33-472b-b7d9-38c37b6b692e",
   "metadata": {},
   "source": [
    "## Section 3.2 Export results"
   ]
  },
  {
   "cell_type": "code",
   "execution_count": null,
   "id": "5c6716d6-7f83-4468-b0b4-539fc1498945",
   "metadata": {},
   "outputs": [],
   "source": [
    "# Save as GeoPackage for downstream use\n",
    "merged_gdf.to_file(output_path, driver=\"GPKG\")\n",
    "print(f\"🚀 Urban change classification saved to {output_path}\")"
   ]
  }
 ],
 "metadata": {
  "kernelspec": {
   "display_name": "Python 3 (ipykernel)",
   "language": "python",
   "name": "python3"
  },
  "language_info": {
   "codemirror_mode": {
    "name": "ipython",
    "version": 3
   },
   "file_extension": ".py",
   "mimetype": "text/x-python",
   "name": "python",
   "nbconvert_exporter": "python",
   "pygments_lexer": "ipython3",
   "version": "3.9.21"
  }
 },
 "nbformat": 4,
 "nbformat_minor": 5
}
