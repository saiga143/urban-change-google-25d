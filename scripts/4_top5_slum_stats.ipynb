{
 "cells": [
  {
   "cell_type": "markdown",
   "id": "b81dfe3a-030f-49ed-bda5-54a6a3066f3b",
   "metadata": {},
   "source": [
    "# Top 5 slum statistics for key urban change categories\n",
    "This notebook identifies the top 5 slums (by area) for four key urban change categories and exports corresponding KMLs for both slums and grid cells for validation purposes.\n",
    "\n",
    "**Author:** Sai Ganesh Veeravalli  \n",
    "**Dataset Used:** Google 2.5D Open Buildings (Temporal) , Nairobi IDEAtlas Slum reference data  "
   ]
  },
  {
   "cell_type": "markdown",
   "id": "ad163c7c-1e51-48cf-a5f7-a21883394aaa",
   "metadata": {},
   "source": [
    "# 📦 Section 1: Import Required Libraries"
   ]
  },
  {
   "cell_type": "code",
   "execution_count": null,
   "id": "c18a4757-cfcf-47aa-be8a-d7cf60f334f5",
   "metadata": {},
   "outputs": [],
   "source": [
    "import geopandas as gpd\n",
    "import matplotlib.pyplot as plt\n",
    "import contextily as ctx\n",
    "import os"
   ]
  },
  {
   "cell_type": "markdown",
   "id": "3ccb4491-a10e-440c-ab69-e5165805f85e",
   "metadata": {},
   "source": [
    "## Section 1.1 Define your file paths"
   ]
  },
  {
   "cell_type": "code",
   "execution_count": null,
   "id": "497402e8-57ca-4abb-94d8-cafffdcb847c",
   "metadata": {},
   "outputs": [],
   "source": [
    "# Load classified urban change grid (2016–2023)\n",
    "grid_path = r\"F:\\DEPRIMAP\\EARSEL2025\\March2025\\Data\\csv_experiment\\urban_change_updated_23_16.gpkg\"\n",
    "grid = gpd.read_file(grid_path)\n",
    "\n",
    "# Load slum polygons\n",
    "slum_path = r\"F:\\DEPRIMAP\\EARSEL2025\\DATASETS\\Reference Slum Parcels\\nairobi_reference_slums.shp\"\n",
    "slums = gpd.read_file(slum_path)"
   ]
  },
  {
   "cell_type": "code",
   "execution_count": null,
   "id": "bfd540ec-fcca-462d-8b37-331389b02e14",
   "metadata": {},
   "outputs": [],
   "source": [
    "# Reproject slum polygons to match grid CRS\n",
    "if grid.crs != slums.crs:\n",
    "    slums = slums.to_crs(grid.crs)"
   ]
  },
  {
   "cell_type": "markdown",
   "id": "8d9b6315-be4f-4e5f-aea9-34a83a6a7c36",
   "metadata": {},
   "source": [
    "# 📊 Section 2: Compute top 5 slums"
   ]
  },
  {
   "cell_type": "markdown",
   "id": "adf69f56-f0aa-4a94-8627-1db95b0a51b1",
   "metadata": {},
   "source": [
    "## Section 2.1 Filter for 4 focus categories"
   ]
  },
  {
   "cell_type": "code",
   "execution_count": null,
   "id": "1ac20f4c-cfda-467b-b5de-8cd9ce5676bf",
   "metadata": {},
   "outputs": [],
   "source": [
    "target_categories = [\n",
    "    'Vertical Densification',\n",
    "    'High Densification',\n",
    "    'Horizontal Densification',\n",
    "    'Decline'\n",
    "]"
   ]
  },
  {
   "cell_type": "code",
   "execution_count": null,
   "id": "208d14fa-8d29-4498-9f48-52d66077ddbc",
   "metadata": {},
   "outputs": [],
   "source": [
    "# Filter grid cells to only the target categories\n",
    "filtered_grid = grid[grid['urban_change'].isin(target_categories)]"
   ]
  },
  {
   "cell_type": "markdown",
   "id": "9a4f291b-1b30-4a84-8165-6f14e6a1cb16",
   "metadata": {},
   "source": [
    "## Section 2.2 Get grids within slums"
   ]
  },
  {
   "cell_type": "code",
   "execution_count": null,
   "id": "a54a1910-c643-4b5e-9ae8-dcdd17ccd496",
   "metadata": {},
   "outputs": [],
   "source": [
    "# Perform spatial overlay (intersection) between filtered grid and slums\n",
    "grids_in_slums = gpd.overlay(filtered_grid, slums, how='intersection')\n",
    "grids_in_slums = grids_in_slums.reset_index(drop=True)"
   ]
  },
  {
   "cell_type": "markdown",
   "id": "a145e9bf-38b0-46b0-a81f-2ade03a9572d",
   "metadata": {},
   "source": [
    "## Section 2.3 Calculate area and top 5 stats"
   ]
  },
  {
   "cell_type": "code",
   "execution_count": null,
   "id": "98be334d-9bca-435d-aa81-23ab11023e72",
   "metadata": {},
   "outputs": [],
   "source": [
    "# Calculate area of each intersected grid in square meters\n",
    "grids_in_slums['area_sqm'] = grids_in_slums.geometry.area"
   ]
  },
  {
   "cell_type": "code",
   "execution_count": null,
   "id": "117853ef-9797-48d1-b11c-b7222cf56786",
   "metadata": {},
   "outputs": [],
   "source": [
    "# Group by category and slum ID\n",
    "slum_id_col = 'Org_FID'\n",
    "grouped = grids_in_slums.groupby(['urban_change', slum_id_col])['area_sqm'].sum().reset_index()\n",
    "\n",
    "# Get top 5 slums by area for each category\n",
    "top5_per_category = (\n",
    "    grouped.sort_values(['urban_change', 'area_sqm'], ascending=[True, False])\n",
    "    .groupby('urban_change')\n",
    "    .head(5)\n",
    "    .reset_index(drop=True)\n",
    ")\n",
    "\n",
    "# Add area in hectares\n",
    "top5_per_category['area_ha'] = top5_per_category['area_sqm'] / 10_000"
   ]
  },
  {
   "cell_type": "markdown",
   "id": "4f163bfd-4095-4cc5-925a-1db4afed5184",
   "metadata": {},
   "source": [
    "## Section 2.4 Plot top 5 slums map"
   ]
  },
  {
   "cell_type": "code",
   "execution_count": null,
   "id": "065dd886-f552-4da5-896d-44d5b391d68e",
   "metadata": {},
   "outputs": [],
   "source": [
    "from matplotlib.patches import FancyArrow\n",
    "\n",
    "def add_north_arrow(ax, size=1000):\n",
    "    \"\"\"Draw a north arrow on the map.\"\"\"\n",
    "    xlim = ax.get_xlim()\n",
    "    ylim = ax.get_ylim()\n",
    "    x = xlim[1] - 2000\n",
    "    y = ylim[0] + 1500\n",
    "    ax.add_patch(FancyArrow(x, y, 0, size, width=size/5, head_width=size/2,\n",
    "                            head_length=size/2, length_includes_head=True, color='black', zorder=5))\n",
    "    ax.text(x, y - 300, 'N', ha='center', va='top', fontsize=12, fontweight='bold')\n",
    "\n",
    "def add_scalebar(ax, length=5000):\n",
    "    \"\"\"Add a scale bar of specified length (in meters).\"\"\"\n",
    "    x_start = ax.get_xlim()[0] + 1000\n",
    "    y_start = ax.get_ylim()[0] + 1000\n",
    "    ax.plot([x_start, x_start + length], [y_start, y_start], color='k', lw=2)\n",
    "    ax.text(x_start + length / 2, y_start + 500, f'{length/1000:.0f} km',\n",
    "            ha='center', va='bottom', fontsize=9)"
   ]
  },
  {
   "cell_type": "code",
   "execution_count": null,
   "id": "9f95b35a-c57a-4b6b-9970-2b1b1cde2dce",
   "metadata": {},
   "outputs": [],
   "source": [
    "# Reproject to Web Mercator for plotting with basemap\n",
    "slums_3857 = slums.to_crs(epsg=3857)\n",
    "top_ids_all = top5_per_category['Org_FID'].unique()\n",
    "all_top_slums = slums_3857[slums_3857['Org_FID'].isin(top_ids_all)]\n",
    "bounds = all_top_slums.total_bounds\n",
    "buffer = 500\n",
    "xlim = (bounds[0] - buffer, bounds[2] + buffer)\n",
    "ylim = (bounds[1] - buffer, bounds[3] + buffer)"
   ]
  },
  {
   "cell_type": "code",
   "execution_count": null,
   "id": "642388ab-a78c-4e52-abae-5f17b8c8d170",
   "metadata": {},
   "outputs": [],
   "source": [
    "# Plot setup\n",
    "fig, axes = plt.subplots(2, 2, figsize=(16, 12))\n",
    "axes = axes.flatten()\n",
    "\n",
    "for i, category in enumerate(target_categories):\n",
    "    ax = axes[i]\n",
    "    top_ids = top5_per_category[top5_per_category['urban_change'] == category]['Org_FID']\n",
    "    subset = slums_3857[slums_3857['Org_FID'].isin(top_ids)]\n",
    "    subset.plot(ax=ax, facecolor='none', edgecolor='black', linewidth=1.5)\n",
    "\n",
    "    # Add label box with slum ID and area\n",
    "    top5_info = top5_per_category[top5_per_category['urban_change'] == category]\n",
    "    label_lines = [\"Org_FID   Area (ha)\"] + [\n",
    "        f\"{int(row['Org_FID']):<9} {row['area_ha']:.1f}\" for _, row in top5_info.iterrows()\n",
    "    ]\n",
    "    ax.text(\n",
    "        0.02, 0.98, \"\\n\".join(label_lines), transform=ax.transAxes,\n",
    "        fontsize=12, va='top', ha='left',\n",
    "        bbox=dict(boxstyle=\"round,pad=0.4\", fc=\"white\", ec=\"gray\", alpha=0.9),\n",
    "        fontfamily='monospace'\n",
    "    )\n",
    "\n",
    "    ax.set_xlim(xlim)\n",
    "    ax.set_ylim(ylim)\n",
    "    ctx.add_basemap(ax, source=ctx.providers.OpenStreetMap.Mapnik, crs=subset.crs.to_string())\n",
    "    ax.set_title(category, fontsize=14)\n",
    "    ax.set_xlabel(\"Easting (m)\", fontsize=10)\n",
    "    ax.set_ylabel(\"Northing (m)\", fontsize=10)\n",
    "    ax.tick_params(labelsize=9)\n",
    "    ax.set_aspect(\"equal\")\n",
    "    add_north_arrow(ax)\n",
    "    add_scalebar(ax)\n",
    "\n",
    "# Final layout\n",
    "fig.suptitle(\"Top 5 Slums by Urban Change Category (Area in Hectares)\", fontsize=18)\n",
    "plt.tight_layout(rect=[0, 0, 1, 0.99])\n",
    "plt.subplots_adjust(hspace=0.01)\n",
    "fig.text(\n",
    "    0.5, 0.01,\n",
    "    \"Note: Area refers to the urban change extent intersecting each slum polygon.\",\n",
    "    ha='center', fontsize=10, style='italic'\n",
    ")\n",
    "plt.show()"
   ]
  },
  {
   "cell_type": "markdown",
   "id": "b0339d39-98e8-4b06-a038-0bb214b50be7",
   "metadata": {},
   "source": [
    "## Section 2.5 Export top 5 slums and Grid KLMs for validation purposes"
   ]
  },
  {
   "cell_type": "code",
   "execution_count": null,
   "id": "0be41d9d-b2e9-43a7-8057-f201b860cc2e",
   "metadata": {},
   "outputs": [],
   "source": [
    "# Define output directory\n",
    "output_dir = r\"F:\\DEPRIMAP\\EARSEL2025\\March2025\\Data\\csv_experiment\\top5_slums\"\n",
    "os.makedirs(output_dir, exist_ok=True)"
   ]
  },
  {
   "cell_type": "code",
   "execution_count": null,
   "id": "865e6173-712a-4ea4-9559-7201e9c58775",
   "metadata": {},
   "outputs": [],
   "source": [
    "# Reproject for KML export (EPSG:4326)\n",
    "slums_4326 = slums.to_crs(epsg=4326)\n",
    "grids_4326 = grids_in_slums.to_crs(epsg=4326)"
   ]
  },
  {
   "cell_type": "code",
   "execution_count": null,
   "id": "d9afb222-3beb-4ab9-8e1f-09605b9b49d5",
   "metadata": {},
   "outputs": [],
   "source": [
    "# Loop through each category and export\n",
    "for category in top5_per_category['urban_change'].unique():\n",
    "    safe_name = category.lower().replace(\" \", \"_\").replace(\"/\", \"_\")\n",
    "    top_ids = top5_per_category[top5_per_category['urban_change'] == category]['Org_FID']\n",
    "\n",
    "    # 🔸 Export slum polygons\n",
    "    slum_subset = slums_4326[slums_4326['Org_FID'].isin(top_ids)]\n",
    "    slum_subset.to_file(os.path.join(output_dir, f\"top5_slums_{safe_name}.kml\"), driver=\"KML\")\n",
    "    slum_subset.to_file(os.path.join(output_dir, f\"top5_slums_{safe_name}.shp\"))\n",
    "\n",
    "    # 🔸 Export grid cells\n",
    "    grid_subset = grids_4326[\n",
    "        (grids_4326['urban_change'] == category) &\n",
    "        (grids_4326['Org_FID'].isin(top_ids))\n",
    "    ]\n",
    "    grid_subset.to_file(os.path.join(output_dir, f\"top5_grids_{safe_name}.kml\"), driver=\"KML\")\n",
    "    grid_subset.to_file(os.path.join(output_dir, f\"top5_grids_{safe_name}.shp\"))\n",
    "\n",
    "    print(f\"✔ Exported files for {category}\")"
   ]
  }
 ],
 "metadata": {
  "kernelspec": {
   "display_name": "Python 3 (ipykernel)",
   "language": "python",
   "name": "python3"
  },
  "language_info": {
   "codemirror_mode": {
    "name": "ipython",
    "version": 3
   },
   "file_extension": ".py",
   "mimetype": "text/x-python",
   "name": "python",
   "nbconvert_exporter": "python",
   "pygments_lexer": "ipython3",
   "version": "3.9.21"
  }
 },
 "nbformat": 4,
 "nbformat_minor": 5
}
